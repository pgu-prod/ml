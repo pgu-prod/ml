{
 "cells": [
  {
   "cell_type": "markdown",
   "id": "a02ec706-0b2d-4567-8320-5884772aa874",
   "metadata": {
    "id": "LbS_Na2eBNYQ"
   },
   "source": [
    "# Отбор признаков"
   ]
  },
  {
   "cell_type": "markdown",
   "id": "cae39d4c-143f-48f8-9363-9b44a9378d54",
   "metadata": {
    "id": "Asty1nATBRZ_"
   },
   "source": [
    "**Отбор признаков** – это отбор подмножества важных признаков для последующего построения модели машинного обучения.\n",
    "\n",
    "Почему отбор фич (признаков) вообще необходим. Основных причин две.\n",
    "- во-первых, если фич очень много, то увеличивается время работы классификатора. Если стоит цель протестировать несколько классификаторов с целью выбора лучшего, то время необходимое на вычисления может стать просто огромным.\n",
    "- кроме того, данные (тренировочный сет) могут перестать помещаться в оперативную память, тогда придется модифицировать алгоритмы классификаторов. Может перестать помещаться даже одна строка сета, хотя это уже редкий случай.\n",
    "- улучшение обобщающей способности модели из-за уменьшения проклятия размерности и переобучения\n",
    "(удаление избыточных и нерелевантных переменных делает модель менее сложной и менее восприим-\n",
    "чивой к случайным возмущениям обучающих данных, которые сложной моделью будут восприняты за\n",
    "сигнал);\n",
    "- сокращение времени обучения;\n",
    "- простые модели легче интерпретировать;\n",
    "- простые модели легче имплементировать.\n",
    "\n",
    "Главная причина все-таки вторая — с увеличением количества фич часто падает точность предсказания. Особенно если в данных много мусорных фич (мало коррелирующих с целевой переменной). Это явление называется переобучение (`overfitting`).\n",
    "\n",
    "Обычно выделяют задачу-минимум и задачу-максимум.\n",
    "- Задача-минимум – сократить признаковое пространство без потери качества.\n",
    "- Задача-максимум – сократить признаковое пространство и при этом улучшить качество модели.\n",
    "\n"
   ]
  },
  {
   "cell_type": "markdown",
   "id": "7e1b8c9e-91b4-4398-bf25-f02023c9b088",
   "metadata": {
    "id": "8PyapDJ5myII"
   },
   "source": [
    "Как правило, методы отбора признаков характеризуются высокими вычислительными затратами, один и\n",
    "тот же метод отбора признаков для разных методов машинного обучения может дать разные подмножества\n",
    "признаков. Не существует одного оптимального метода отбора признаков. Вопрос «какой метод отбора\n",
    "признаков является лучшим?» тождествен вопросу «какой метод машинного обучения является лучшим?».\n",
    "Поэтому каждый раз берем задачу и пробуем разные методы отбора признаков. Важный признак является\n",
    "реле- вантным (связан с зависимой переменной) и неизбыточным (дает новую информацию, еще не объясненную другими признаками).\n",
    "\n",
    "Методы отбора фич делятся на три категории:\n",
    "\n",
    "•\tметоды фильтрации (filter methods);\n",
    "\n",
    "•\tметоды \"обёртки\" (wrapper methods);\n",
    "\n",
    "•\tвстроенные методы (embedded methods);\n",
    "\n",
    "•\tотбор с использованием моделей.\n",
    "\n",
    "Кроме того, можно выделить гибридные подходы, сочетающие методы- обертки и встроенные методы.\n",
    "Кстати, именно они на практике часто дают наилучшие результаты.\n"
   ]
  },
  {
   "cell_type": "markdown",
   "id": "2d90cb4c-92ca-40e1-bcb4-b9b9322b896c",
   "metadata": {
    "id": "Tt_ShQHtBiRi"
   },
   "source": [
    "## Методы фильтрации (filter methods).\n",
    "\n",
    "Они основаны на статистических методах и, как правило, рассматривают каждую фичу независимо. Позволяют оценить и ранжировать фичи по значимости, за которую принимается степень корреляции этой фичи с целевой переменной. Рассмотрим несколько примеров.\n",
    "\n",
    "В их основе – следующая процедура:\n",
    "\n",
    "- получаем оценку каждого признака по отдельности с точки зрения определенного критерия (например, с точки зрения IV), таким образом, отбор является одномерным;\n",
    "- ранжируем признаки по полученным оценкам;\n",
    "- выбираем признаки с наиболее высокой оценкой.\n",
    "\n",
    "\n"
   ]
  },
  {
   "cell_type": "markdown",
   "id": "6dad027d-2dca-4c33-94c5-253d5b575955",
   "metadata": {
    "id": "UHYfpuG6vTb1"
   },
   "source": [
    "Методы-фильтры не годятся для отбора сильных переменных. Они могут отбирать избыточные переменные, поскольку преимущественно являются одномерными и не учитывают взаимосвязи между признаками (за исключением методов-фильтров на основе корреляции). Мы оцениваем, как признак работает сам по себе, а не в сочетании с другими признаками. Методы-фильтры хороши для быстрого мониторинга и удаления наименее релевантных признаков (константных, дублирующихся признаков) на самом раннем этапе отбора признаков.\n",
    "Примерами методов-фильтров может быть отбор признаков по:\n",
    "- информационному значению (чем выше значение IV, тем выше прогнозная сила);\n",
    "- взаимной информации (насколько информация, содержащаяся в признаке, снижает неопределенность\n",
    "относительно зависимой переменной; если признак и целевая переменная не зависят друг от друга, взаимная информация равна 0);\n",
    "- дисперсии (низкая оценка дисперсии может указывать на почти константный признак);\n",
    "- критерию хи-квадрат или F-критерию (чем выше значение хи-квадрат/ F-критерий и ниже p-значение,\n",
    "тем переменная важнее);\n",
    "- коэффициенту корреляции (есть корреляция с зависимой переменной – хороший признак, есть корреляция с другим признаком – избыточный признак);\n",
    "- метрике (чем выше AUC, тем важнее признак).\n"
   ]
  },
  {
   "cell_type": "markdown",
   "id": "f3313395-7309-4e27-8262-9ac7184b7975",
   "metadata": {
    "id": "ryJn_Bglu2yt"
   },
   "source": [
    "## Сбор информации (Information Gain, IG).\n",
    "\n",
    "Вычисляет уменьшение энтропии в результате преобразования набора данных. Его можно использовать для отбора признаков путем оценки информационного прироста каждой переменной в контексте целевой переменной.\n",
    "\n",
    "![img](https://drive.google.com/uc?id=1mSj8MX3Ytptr77vNyOAiCgVcW67y2Hzt)"
   ]
  },
  {
   "cell_type": "markdown",
   "id": "cf3cb080-982f-47cb-9854-783c90c345d8",
   "metadata": {
    "id": "BCv98U-zCFcm"
   },
   "source": [
    "Чтобы лучше понять смысл этой меры, можно представить два простых примера.\n",
    "\n",
    "Во-первых, подбрасывание монетки, у которой выпадение орла и решки равновероятны. В этом случае энтропия, рассчитанная по формуле, будет равна 1. Если же монета всегда падает исключительно орлом вверх, то энтропия будет равна 0. Иными словами высокая энтропия говорит о равномерном распределении, низкая — о каком-то более интересном."
   ]
  },
  {
   "cell_type": "code",
   "execution_count": 1,
   "id": "84a65d98-8b2a-4658-8589-cb5857c7ab3d",
   "metadata": {
    "colab": {
     "base_uri": "https://localhost:8080/"
    },
    "executionInfo": {
     "elapsed": 666,
     "status": "ok",
     "timestamp": 1690537417186,
     "user": {
      "displayName": "ольга кузнецова",
      "userId": "04325811963451346545"
     },
     "user_tz": -180
    },
    "id": "pTe9UmPhC0Ro",
    "outputId": "7879f0e3-dc53-4d15-a3a4-9f5360e52e7f"
   },
   "outputs": [
    {
     "data": {
      "text/html": [
       "<div>\n",
       "<style scoped>\n",
       "    .dataframe tbody tr th:only-of-type {\n",
       "        vertical-align: middle;\n",
       "    }\n",
       "\n",
       "    .dataframe tbody tr th {\n",
       "        vertical-align: top;\n",
       "    }\n",
       "\n",
       "    .dataframe thead th {\n",
       "        text-align: right;\n",
       "    }\n",
       "</style>\n",
       "<table border=\"1\" class=\"dataframe\">\n",
       "  <thead>\n",
       "    <tr style=\"text-align: right;\">\n",
       "      <th></th>\n",
       "      <th>Year</th>\n",
       "      <th>Engine HP</th>\n",
       "      <th>Engine Cylinders</th>\n",
       "      <th>Number of Doors</th>\n",
       "      <th>highway MPG</th>\n",
       "      <th>city mpg</th>\n",
       "      <th>MSRP</th>\n",
       "    </tr>\n",
       "  </thead>\n",
       "  <tbody>\n",
       "    <tr>\n",
       "      <th>0</th>\n",
       "      <td>2011</td>\n",
       "      <td>335.0</td>\n",
       "      <td>6.0</td>\n",
       "      <td>2.0</td>\n",
       "      <td>26</td>\n",
       "      <td>19</td>\n",
       "      <td>46135</td>\n",
       "    </tr>\n",
       "    <tr>\n",
       "      <th>1</th>\n",
       "      <td>2011</td>\n",
       "      <td>300.0</td>\n",
       "      <td>6.0</td>\n",
       "      <td>2.0</td>\n",
       "      <td>28</td>\n",
       "      <td>19</td>\n",
       "      <td>40650</td>\n",
       "    </tr>\n",
       "    <tr>\n",
       "      <th>2</th>\n",
       "      <td>2011</td>\n",
       "      <td>300.0</td>\n",
       "      <td>6.0</td>\n",
       "      <td>2.0</td>\n",
       "      <td>28</td>\n",
       "      <td>20</td>\n",
       "      <td>36350</td>\n",
       "    </tr>\n",
       "    <tr>\n",
       "      <th>3</th>\n",
       "      <td>2011</td>\n",
       "      <td>230.0</td>\n",
       "      <td>6.0</td>\n",
       "      <td>2.0</td>\n",
       "      <td>28</td>\n",
       "      <td>18</td>\n",
       "      <td>29450</td>\n",
       "    </tr>\n",
       "    <tr>\n",
       "      <th>4</th>\n",
       "      <td>2011</td>\n",
       "      <td>230.0</td>\n",
       "      <td>6.0</td>\n",
       "      <td>2.0</td>\n",
       "      <td>28</td>\n",
       "      <td>18</td>\n",
       "      <td>34500</td>\n",
       "    </tr>\n",
       "    <tr>\n",
       "      <th>...</th>\n",
       "      <td>...</td>\n",
       "      <td>...</td>\n",
       "      <td>...</td>\n",
       "      <td>...</td>\n",
       "      <td>...</td>\n",
       "      <td>...</td>\n",
       "      <td>...</td>\n",
       "    </tr>\n",
       "    <tr>\n",
       "      <th>11186</th>\n",
       "      <td>2012</td>\n",
       "      <td>300.0</td>\n",
       "      <td>6.0</td>\n",
       "      <td>4.0</td>\n",
       "      <td>23</td>\n",
       "      <td>16</td>\n",
       "      <td>46120</td>\n",
       "    </tr>\n",
       "    <tr>\n",
       "      <th>11187</th>\n",
       "      <td>2012</td>\n",
       "      <td>300.0</td>\n",
       "      <td>6.0</td>\n",
       "      <td>4.0</td>\n",
       "      <td>23</td>\n",
       "      <td>16</td>\n",
       "      <td>56670</td>\n",
       "    </tr>\n",
       "    <tr>\n",
       "      <th>11188</th>\n",
       "      <td>2012</td>\n",
       "      <td>300.0</td>\n",
       "      <td>6.0</td>\n",
       "      <td>4.0</td>\n",
       "      <td>23</td>\n",
       "      <td>16</td>\n",
       "      <td>50620</td>\n",
       "    </tr>\n",
       "    <tr>\n",
       "      <th>11189</th>\n",
       "      <td>2013</td>\n",
       "      <td>300.0</td>\n",
       "      <td>6.0</td>\n",
       "      <td>4.0</td>\n",
       "      <td>23</td>\n",
       "      <td>16</td>\n",
       "      <td>50920</td>\n",
       "    </tr>\n",
       "    <tr>\n",
       "      <th>11190</th>\n",
       "      <td>2006</td>\n",
       "      <td>221.0</td>\n",
       "      <td>6.0</td>\n",
       "      <td>4.0</td>\n",
       "      <td>26</td>\n",
       "      <td>17</td>\n",
       "      <td>28995</td>\n",
       "    </tr>\n",
       "  </tbody>\n",
       "</table>\n",
       "<p>11191 rows × 7 columns</p>\n",
       "</div>"
      ],
      "text/plain": [
       "       Year  Engine HP  Engine Cylinders  Number of Doors  highway MPG  \\\n",
       "0      2011      335.0               6.0              2.0           26   \n",
       "1      2011      300.0               6.0              2.0           28   \n",
       "2      2011      300.0               6.0              2.0           28   \n",
       "3      2011      230.0               6.0              2.0           28   \n",
       "4      2011      230.0               6.0              2.0           28   \n",
       "...     ...        ...               ...              ...          ...   \n",
       "11186  2012      300.0               6.0              4.0           23   \n",
       "11187  2012      300.0               6.0              4.0           23   \n",
       "11188  2012      300.0               6.0              4.0           23   \n",
       "11189  2013      300.0               6.0              4.0           23   \n",
       "11190  2006      221.0               6.0              4.0           26   \n",
       "\n",
       "       city mpg   MSRP  \n",
       "0            19  46135  \n",
       "1            19  40650  \n",
       "2            20  36350  \n",
       "3            18  29450  \n",
       "4            18  34500  \n",
       "...         ...    ...  \n",
       "11186        16  46120  \n",
       "11187        16  56670  \n",
       "11188        16  50620  \n",
       "11189        16  50920  \n",
       "11190        17  28995  \n",
       "\n",
       "[11191 rows x 7 columns]"
      ]
     },
     "execution_count": 1,
     "metadata": {},
     "output_type": "execute_result"
    }
   ],
   "source": [
    "import pandas as pd\n",
    "import numpy as np\n",
    "\n",
    "df=pd.read_csv('../dataset/car5.csv', delimiter=',')\n",
    "data = df.select_dtypes(include=[np.number])\n",
    "data"
   ]
  },
  {
   "cell_type": "code",
   "execution_count": 2,
   "id": "2e39d92e-ecc6-4b44-a3bc-1485ecda3006",
   "metadata": {},
   "outputs": [],
   "source": [
    "col = data.shape[1]-1\n",
    "X=data.iloc[:,:col]\n",
    "y=data.iloc[:,col]"
   ]
  },
  {
   "cell_type": "markdown",
   "id": "bc5f08db-f581-4f85-8f3f-7cc837ca5f30",
   "metadata": {},
   "source": [
    "[mutual_info_classif](https://scikit-learn.org/stable/modules/generated/sklearn.feature_selection.mutual_info_classif.html#sklearn.feature_selection.mutual_info_classif)"
   ]
  },
  {
   "cell_type": "code",
   "execution_count": 3,
   "id": "4bbd89e4-82d0-4b54-a275-229b771fa947",
   "metadata": {
    "colab": {
     "base_uri": "https://localhost:8080/",
     "height": 569
    },
    "executionInfo": {
     "elapsed": 677,
     "status": "ok",
     "timestamp": 1690456015270,
     "user": {
      "displayName": "ольга кузнецова",
      "userId": "04325811963451346545"
     },
     "user_tz": -180
    },
    "id": "4M6iG2icGHbe",
    "outputId": "fd1a7bc2-095b-4c59-ab62-8ea76245a788"
   },
   "outputs": [
    {
     "data": {
      "image/png": "[encoded data removed]",
      "text/plain": [
       "<Figure size 640x480 with 1 Axes>"
      ]
     },
     "metadata": {},
     "output_type": "display_data"
    },
    {
     "data": {
      "text/plain": [
       "Number of Doors     3.119171\n",
       "Engine Cylinders    2.465471\n",
       "Engine HP           1.488162\n",
       "city mpg            0.992433\n",
       "Year                0.941488\n",
       "highway MPG         0.932842\n",
       "dtype: float64"
      ]
     },
     "execution_count": 3,
     "metadata": {},
     "output_type": "execute_result"
    }
   ],
   "source": [
    "import matplotlib.pyplot as plt\n",
    "from sklearn.feature_selection import mutual_info_classif\n",
    "\n",
    "importances = mutual_info_classif(X, y)\n",
    "feature_importances = pd.Series(importances,X.columns)\n",
    "feature_importances.plot(kind='barh', color='teal')\n",
    "plt.show()\n",
    "feature_importances.sort_values(ascending=False)"
   ]
  },
  {
   "cell_type": "code",
   "execution_count": 4,
   "id": "d19ef1a4-e28d-4587-ba8c-487cc677aa40",
   "metadata": {},
   "outputs": [
    {
     "data": {
      "text/html": [
       "<div>\n",
       "<style scoped>\n",
       "    .dataframe tbody tr th:only-of-type {\n",
       "        vertical-align: middle;\n",
       "    }\n",
       "\n",
       "    .dataframe tbody tr th {\n",
       "        vertical-align: top;\n",
       "    }\n",
       "\n",
       "    .dataframe thead th {\n",
       "        text-align: right;\n",
       "    }\n",
       "</style>\n",
       "<table border=\"1\" class=\"dataframe\">\n",
       "  <thead>\n",
       "    <tr style=\"text-align: right;\">\n",
       "      <th></th>\n",
       "      <th>Year</th>\n",
       "      <th>Engine Cylinders</th>\n",
       "      <th>highway MPG</th>\n",
       "      <th>city mpg</th>\n",
       "      <th>MSRP</th>\n",
       "    </tr>\n",
       "  </thead>\n",
       "  <tbody>\n",
       "    <tr>\n",
       "      <th>0</th>\n",
       "      <td>2011</td>\n",
       "      <td>6.0</td>\n",
       "      <td>26</td>\n",
       "      <td>19</td>\n",
       "      <td>46135</td>\n",
       "    </tr>\n",
       "    <tr>\n",
       "      <th>1</th>\n",
       "      <td>2011</td>\n",
       "      <td>6.0</td>\n",
       "      <td>28</td>\n",
       "      <td>19</td>\n",
       "      <td>40650</td>\n",
       "    </tr>\n",
       "    <tr>\n",
       "      <th>2</th>\n",
       "      <td>2011</td>\n",
       "      <td>6.0</td>\n",
       "      <td>28</td>\n",
       "      <td>20</td>\n",
       "      <td>36350</td>\n",
       "    </tr>\n",
       "    <tr>\n",
       "      <th>3</th>\n",
       "      <td>2011</td>\n",
       "      <td>6.0</td>\n",
       "      <td>28</td>\n",
       "      <td>18</td>\n",
       "      <td>29450</td>\n",
       "    </tr>\n",
       "    <tr>\n",
       "      <th>4</th>\n",
       "      <td>2011</td>\n",
       "      <td>6.0</td>\n",
       "      <td>28</td>\n",
       "      <td>18</td>\n",
       "      <td>34500</td>\n",
       "    </tr>\n",
       "    <tr>\n",
       "      <th>...</th>\n",
       "      <td>...</td>\n",
       "      <td>...</td>\n",
       "      <td>...</td>\n",
       "      <td>...</td>\n",
       "      <td>...</td>\n",
       "    </tr>\n",
       "    <tr>\n",
       "      <th>11186</th>\n",
       "      <td>2012</td>\n",
       "      <td>6.0</td>\n",
       "      <td>23</td>\n",
       "      <td>16</td>\n",
       "      <td>46120</td>\n",
       "    </tr>\n",
       "    <tr>\n",
       "      <th>11187</th>\n",
       "      <td>2012</td>\n",
       "      <td>6.0</td>\n",
       "      <td>23</td>\n",
       "      <td>16</td>\n",
       "      <td>56670</td>\n",
       "    </tr>\n",
       "    <tr>\n",
       "      <th>11188</th>\n",
       "      <td>2012</td>\n",
       "      <td>6.0</td>\n",
       "      <td>23</td>\n",
       "      <td>16</td>\n",
       "      <td>50620</td>\n",
       "    </tr>\n",
       "    <tr>\n",
       "      <th>11189</th>\n",
       "      <td>2013</td>\n",
       "      <td>6.0</td>\n",
       "      <td>23</td>\n",
       "      <td>16</td>\n",
       "      <td>50920</td>\n",
       "    </tr>\n",
       "    <tr>\n",
       "      <th>11190</th>\n",
       "      <td>2006</td>\n",
       "      <td>6.0</td>\n",
       "      <td>26</td>\n",
       "      <td>17</td>\n",
       "      <td>28995</td>\n",
       "    </tr>\n",
       "  </tbody>\n",
       "</table>\n",
       "<p>11191 rows × 5 columns</p>\n",
       "</div>"
      ],
      "text/plain": [
       "       Year  Engine Cylinders  highway MPG  city mpg   MSRP\n",
       "0      2011               6.0           26        19  46135\n",
       "1      2011               6.0           28        19  40650\n",
       "2      2011               6.0           28        20  36350\n",
       "3      2011               6.0           28        18  29450\n",
       "4      2011               6.0           28        18  34500\n",
       "...     ...               ...          ...       ...    ...\n",
       "11186  2012               6.0           23        16  46120\n",
       "11187  2012               6.0           23        16  56670\n",
       "11188  2012               6.0           23        16  50620\n",
       "11189  2013               6.0           23        16  50920\n",
       "11190  2006               6.0           26        17  28995\n",
       "\n",
       "[11191 rows x 5 columns]"
      ]
     },
     "execution_count": 4,
     "metadata": {},
     "output_type": "execute_result"
    }
   ],
   "source": [
    "# data_new = df.drop(['highway MPG'], axis=1).drop(['city mpg'], axis=1).drop(['Year'], axis=1)\n",
    "# data_new = df.drop(['Engine HP'], axis=1).drop(['Number of Doors'], axis=1)\n",
    "data_new.to_csv(path_or_buf='../dataset/car60.csv',index=False)\n",
    "# df.to_csv(path_or_buf='../dataset/car62.csv',index=False)\n",
    "data_new.select_dtypes(include=[np.number])"
   ]
  },
  {
   "cell_type": "code",
   "execution_count": 5,
   "id": "87cc76f5-dc09-4b07-9d68-8709ba1a189a",
   "metadata": {},
   "outputs": [
    {
     "data": {
      "image/png": "[encoded data removed]",
      "text/plain": [
       "<Figure size 800x800 with 2 Axes>"
      ]
     },
     "metadata": {},
     "output_type": "display_data"
    }
   ],
   "source": [
    "import seaborn as sns\n",
    "import matplotlib.pyplot as plt\n",
    "sns.heatmap(df.corr(numeric_only=True),annot=True,cmap='RdYlGn',linewidths=0.2)\n",
    "fig=plt.gcf()\n",
    "fig.set_size_inches(8,8)\n",
    "plt.show()"
   ]
  },
  {
   "cell_type": "markdown",
   "id": "0e059375-cbdd-45b9-8e78-a02ba972f6be",
   "metadata": {
    "id": "ItqWlATBCZK7"
   },
   "source": [
    "## Критерий хи-квадрат (Chi-square Test)\n",
    "\n",
    "Взаимная информация измеряет взаимную зависимость двух переменных X и Y. Другими словами, она определяет, насколько точно мы можем определить переменную Y, зная переменную X. Здесь нас интересует, насколько совместное распределение P(X,Y) похоже на произведение маргинальных распределений P(X)P(Y). Если X и Y независимы, то взаимная информация будет равна нулю.\n",
    "\n",
    "Используется для категориальных признаков в датасете. Мы вычисляем хи-квадрат между каждым признаком и целью, после выбираем желаемое количество “фич” с лучшими показателями. Чтобы правильно применить критерий для проверки связи между различными функциями в наборе данных и целевой переменной, должны быть выполнены следующие условия: категориальные переменные, которые выбираются независимо, и частота значений > 5.\n",
    "\n",
    "Тест Хи-квадрат предполагает нулевую гипотезу о том, что две переменные независимы, и альтернативную гипотезу о том, что две переменные зависимы, как и большинство других статистических тестов. Используя критерий хи-квадрат, он вычисляет p-значения каждого объекта относительно целевого объекта. Проще говоря, p - это вероятность того, что две переменные независимы. Наша цель состоит в том, чтобы определить функции, которые зависят от цели, другими словами, отвергая нулевую гипотезу. По этой причине мы выбираем объекты, у которых обычно значение p меньше 0,05. Пороговое значение 0.05 - это просто обычное поведение, вы можете установить меньшие пороговые значения, например 0.01, чтобы быть более уверенным в том, что две группы зависят друг от друга.\n",
    "\n",
    "И  критерий  хи-квадрат,  и  критерий  Фишера  из-за  использования p-значений чувствительны к размеру выборки, поэтому на больших выборках большинство признаков будут значимыми. Вы должны помнить, что низкое p-значение может указывать не на высокую прогнозную силу переменной, а просто на тот факт, что мы работаем с большим набором данных. Поэтому полезнее смотреть не на сами\n",
    "p-значения, а сравнивать эти p-значения между собой.\n",
    "\n",
    "\n"
   ]
  },
  {
   "cell_type": "code",
   "execution_count": 6,
   "id": "151fb26a-8cc9-4095-a560-9288ee26761a",
   "metadata": {
    "colab": {
     "base_uri": "https://localhost:8080/",
     "height": 569
    },
    "executionInfo": {
     "elapsed": 820,
     "status": "ok",
     "timestamp": 1690456423339,
     "user": {
      "displayName": "ольга кузнецова",
      "userId": "04325811963451346545"
     },
     "user_tz": -180
    },
    "id": "CQE5bZuyH792",
    "outputId": "9cb3b666-0549-41b0-a630-5c838309d095"
   },
   "outputs": [
    {
     "name": "stdout",
     "output_type": "stream",
     "text": [
      "              Specs          Score\n",
      "1         Engine HP  493566.875498\n",
      "5          city mpg   28859.330500\n",
      "4       highway MPG   20267.519895\n",
      "2  Engine Cylinders    4959.318209\n",
      "3   Number of Doors    1601.230685\n",
      "0              Year     259.087269\n"
     ]
    },
    {
     "data": {
      "image/png": "[encoded data removed]",
      "text/plain": [
       "<Figure size 640x480 with 1 Axes>"
      ]
     },
     "metadata": {},
     "output_type": "display_data"
    }
   ],
   "source": [
    "# примените класс SelectKBest, чтобы извлечь лучшие показатели\n",
    "from sklearn.feature_selection import SelectKBest\n",
    "from sklearn.feature_selection import chi2\n",
    "\n",
    "data = df.select_dtypes(include=[np.number])\n",
    "X=data.iloc[:,:col]\n",
    "y=data.iloc[:,col]\n",
    "\n",
    "bestfeatures = SelectKBest(score_func=chi2, k='all')\n",
    "fit = bestfeatures.fit(X,y)\n",
    "dfscores = pd.DataFrame(fit.scores_)\n",
    "dfcolumns = pd.DataFrame(X.columns)\n",
    "\n",
    "#объединим два фрейма данных для лучшей визуализации\n",
    "featureScores = pd.concat([dfcolumns,dfscores],axis=1)\n",
    "featureScores.columns = ['Specs','Score']  #название показателей\n",
    "print(featureScores.nlargest(11,'Score'))\n",
    "\n",
    "feature_importances = pd.Series(featureScores['Score'])\n",
    "feature_importances.plot(kind='barh', color='teal')\n",
    "plt.show()"
   ]
  },
  {
   "cell_type": "markdown",
   "id": "50ce8a99-02a6-4f78-8531-e4eb77290a03",
   "metadata": {
    "id": "zD0K6yW5MyGE"
   },
   "source": [
    "## Методы обертки.\n",
    "Суть этой категории методов в том, что классификатор запускается на разных подмножествах фич исходного тренировочного сета. После чего выбирается подмножество фич с наилучшими параметрами на обучающей выборке. А затем он тестируется на тестовом сете (тестовый сет не участвует в процессе выбора оптимального подмножества).\n",
    "\n",
    "Методы-обертки используют методы машинного обучения, таким образом, зависят от моделей машинного\n",
    "обучения. В их основе – следующая процедура:\n",
    "- находим подмножество признаков;\n",
    "- строим модель машинного обучения на этом подмножестве признаков;\n",
    "- оцениваем качество модели;\n",
    "- повторяем.\n",
    "\n",
    "\n",
    "Есть два подхода в этом классе методов — методы включения (`forward selection`) и исключения (`backwards selection`) фич. Первые стартуют с пустого подмножества, куда постепенно добавляются разные фичи (для выбора на каждом шаге оптимального добавления). Во втором случае метод стартует с подмножества равного исходному множеству фич, и из него постепенно удаляются фичи, с пересчетом классификатора каждый раз."
   ]
  },
  {
   "cell_type": "code",
   "execution_count": 7,
   "id": "9b788afc-1ad4-4eee-8984-379f5dfb73ce",
   "metadata": {
    "colab": {
     "base_uri": "https://localhost:8080/"
    },
    "executionInfo": {
     "elapsed": 252,
     "status": "ok",
     "timestamp": 1690457552568,
     "user": {
      "displayName": "ольга кузнецова",
      "userId": "04325811963451346545"
     },
     "user_tz": -180
    },
    "id": "J-xGIYYNHNS3",
    "outputId": "37c6741a-f3a6-40d9-ef83-faa44da586c2"
   },
   "outputs": [
    {
     "name": "stdout",
     "output_type": "stream",
     "text": [
      "Index(['Year', 'Engine HP', 'Engine Cylinders', 'Number of Doors',\n",
      "       'highway MPG', 'city mpg'],\n",
      "      dtype='object')\n",
      "(7833, 6) (7833,)\n"
     ]
    }
   ],
   "source": [
    "from sklearn.model_selection import train_test_split\n",
    "from sklearn.linear_model import LogisticRegression\n",
    "from sklearn.model_selection import cross_val_score\n",
    "\n",
    "# разбиваем набор данных на обучающую и тестовую выборки\n",
    "X_train, X_test, y_train, y_test = train_test_split(data.drop('MSRP', axis=1),data['MSRP'],test_size=0.3,random_state=42)\n",
    "\n",
    "# создаем список признаков\n",
    "col_list = X_train.select_dtypes(include=[np.number]).columns\n",
    "print(col_list)\n",
    "print(X_train.shape, y_train.shape)\n"
   ]
  },
  {
   "cell_type": "code",
   "execution_count": null,
   "id": "d93d6654-258c-41fe-affe-8bb33ddaca7a",
   "metadata": {
    "colab": {
     "base_uri": "https://localhost:8080/"
    },
    "executionInfo": {
     "elapsed": 236,
     "status": "ok",
     "timestamp": 1690458104540,
     "user": {
      "displayName": "ольга кузнецова",
      "userId": "04325811963451346545"
     },
     "user_tz": -180
    },
    "id": "30SWu6lFHhmc",
    "outputId": "fbb0fa2d-0dbc-4784-da2a-4667124d41cd"
   },
   "outputs": [
    {
     "name": "stderr",
     "output_type": "stream",
     "text": [
      "C:\\Users\\iteco\\AppData\\Local\\Programs\\Python\\Python310\\lib\\site-packages\\sklearn\\model_selection\\_split.py:737: UserWarning: The least populated class in y has only 1 members, which is less than n_splits=5.\n",
      "  warnings.warn(\n",
      "C:\\Users\\iteco\\AppData\\Local\\Programs\\Python\\Python310\\lib\\site-packages\\sklearn\\model_selection\\_validation.py:839: UserWarning: Scoring failed. The score on this train-test partition for these parameters will be set to nan. Details: \n",
      "Traceback (most recent call last):\n",
      "  File \"C:\\Users\\iteco\\AppData\\Local\\Programs\\Python\\Python310\\lib\\site-packages\\sklearn\\metrics\\_scorer.py\", line 136, in __call__\n",
      "    score = scorer._score(\n",
      "  File \"C:\\Users\\iteco\\AppData\\Local\\Programs\\Python\\Python310\\lib\\site-packages\\sklearn\\metrics\\_scorer.py\", line 452, in _score\n",
      "    raise ValueError(\"{0} format is not supported\".format(y_type))\n",
      "ValueError: multiclass format is not supported\n",
      "\n",
      "  warnings.warn(\n",
      "C:\\Users\\iteco\\AppData\\Local\\Programs\\Python\\Python310\\lib\\site-packages\\sklearn\\model_selection\\_validation.py:839: UserWarning: Scoring failed. The score on this train-test partition for these parameters will be set to nan. Details: \n",
      "Traceback (most recent call last):\n",
      "  File \"C:\\Users\\iteco\\AppData\\Local\\Programs\\Python\\Python310\\lib\\site-packages\\sklearn\\metrics\\_scorer.py\", line 136, in __call__\n",
      "    score = scorer._score(\n",
      "  File \"C:\\Users\\iteco\\AppData\\Local\\Programs\\Python\\Python310\\lib\\site-packages\\sklearn\\metrics\\_scorer.py\", line 452, in _score\n",
      "    raise ValueError(\"{0} format is not supported\".format(y_type))\n",
      "ValueError: multiclass format is not supported\n",
      "\n",
      "  warnings.warn(\n",
      "C:\\Users\\iteco\\AppData\\Local\\Programs\\Python\\Python310\\lib\\site-packages\\sklearn\\model_selection\\_validation.py:839: UserWarning: Scoring failed. The score on this train-test partition for these parameters will be set to nan. Details: \n",
      "Traceback (most recent call last):\n",
      "  File \"C:\\Users\\iteco\\AppData\\Local\\Programs\\Python\\Python310\\lib\\site-packages\\sklearn\\metrics\\_scorer.py\", line 136, in __call__\n",
      "    score = scorer._score(\n",
      "  File \"C:\\Users\\iteco\\AppData\\Local\\Programs\\Python\\Python310\\lib\\site-packages\\sklearn\\metrics\\_scorer.py\", line 452, in _score\n",
      "    raise ValueError(\"{0} format is not supported\".format(y_type))\n",
      "ValueError: multiclass format is not supported\n",
      "\n",
      "  warnings.warn(\n",
      "C:\\Users\\iteco\\AppData\\Local\\Programs\\Python\\Python310\\lib\\site-packages\\sklearn\\model_selection\\_validation.py:839: UserWarning: Scoring failed. The score on this train-test partition for these parameters will be set to nan. Details: \n",
      "Traceback (most recent call last):\n",
      "  File \"C:\\Users\\iteco\\AppData\\Local\\Programs\\Python\\Python310\\lib\\site-packages\\sklearn\\metrics\\_scorer.py\", line 136, in __call__\n",
      "    score = scorer._score(\n",
      "  File \"C:\\Users\\iteco\\AppData\\Local\\Programs\\Python\\Python310\\lib\\site-packages\\sklearn\\metrics\\_scorer.py\", line 452, in _score\n",
      "    raise ValueError(\"{0} format is not supported\".format(y_type))\n",
      "ValueError: multiclass format is not supported\n",
      "\n",
      "  warnings.warn(\n"
     ]
    }
   ],
   "source": [
    "# вычисляем AUC для модели с одним признаком,\n",
    "# используя перекрестную проверку\n",
    "log = LogisticRegression(solver='liblinear')\n",
    "auc=cross_val_score(log, X_train, y_train, cv=5, scoring='roc_auc')\n",
    "\n",
    "# превращаем список со значениями AUC в серию\n",
    "auc_values = pd.Series(auc)\n",
    "print(auc_values)"
   ]
  },
  {
   "cell_type": "code",
   "execution_count": null,
   "id": "8dc9523c-b4db-43de-8c55-78fd9499a448",
   "metadata": {
    "colab": {
     "base_uri": "https://localhost:8080/"
    },
    "executionInfo": {
     "elapsed": 287,
     "status": "ok",
     "timestamp": 1690457997441,
     "user": {
      "displayName": "ольга кузнецова",
      "userId": "04325811963451346545"
     },
     "user_tz": -180
    },
    "id": "dZfUAB5OD2tR",
    "outputId": "e0b93155-5115-47ed-db6d-327fc857a308"
   },
   "outputs": [],
   "source": [
    "# сортируем по убыванию\n",
    "auc_values = auc_values.sort_values(ascending=False)\n",
    "auc_values"
   ]
  },
  {
   "cell_type": "code",
   "execution_count": null,
   "id": "712ed442-c96a-4563-86c9-75c15fde0d65",
   "metadata": {
    "colab": {
     "base_uri": "https://localhost:8080/",
     "height": 424
    },
    "executionInfo": {
     "elapsed": 268,
     "status": "ok",
     "timestamp": 1690458512948,
     "user": {
      "displayName": "ольга кузнецова",
      "userId": "04325811963451346545"
     },
     "user_tz": -180
    },
    "id": "2sBVsaQiK21e",
    "outputId": "b52c9935-7810-4007-9fb0-73f03c6b077f"
   },
   "outputs": [],
   "source": [
    "# формитруем датасет только из информативных показателей\n",
    "x_1=X.iloc[:,auc_values.index]#3\n",
    "x_1"
   ]
  },
  {
   "cell_type": "markdown",
   "id": "519b122d-1250-4992-9e98-64a4f7e49a2b",
   "metadata": {
    "id": "zD0K6yW5MyGE"
   },
   "source": [
    "## Прямой отбор признаков.\n",
    "Это крайне прямолинейный метод, в котором мы начинаем с наиболее эффективной переменной по отношению к цели. Затем мы выбираем другую переменную, которая дает лучшую производительность в сочетании с первой. Этот процесс продолжается до тех пор, пока не будет достигнут заданный критерий."
   ]
  },
  {
   "cell_type": "markdown",
   "id": "10d2bc26-9b3d-4415-af3f-452c5374ea43",
   "metadata": {
    "id": "5FVY98wVNvae"
   },
   "source": [
    "## Рекурсивное исключение признаков.\n",
    "\n",
    "Сначала модель обучается на начальной выборке признаков, и важность каждой функции определяется либо с помощью атрибута `coef_` или `feature_importances_`. Затем наименее важные “фичи” удаляются из текущего набора. Процедура рекурсивно повторяется для сокращенного набора до тех пор, пока в конечном итоге не будет достигнуто желаемое количество признаков для выбора."
   ]
  },
  {
   "cell_type": "code",
   "execution_count": null,
   "id": "6b2cff27-92d5-4dce-b4de-f7d7124b6693",
   "metadata": {
    "colab": {
     "base_uri": "https://localhost:8080/"
    },
    "executionInfo": {
     "elapsed": 253,
     "status": "ok",
     "timestamp": 1690458742118,
     "user": {
      "displayName": "ольга кузнецова",
      "userId": "04325811963451346545"
     },
     "user_tz": -180
    },
    "id": "wsxVyqMcN7nv",
    "outputId": "4a200e89-ce99-4eb8-a235-cb751783ed8d"
   },
   "outputs": [],
   "source": [
    "from sklearn.linear_model import LogisticRegression\n",
    "from sklearn.feature_selection import RFE\n",
    "\n",
    "threshold = 4 # the number of most relevant features\n",
    "\n",
    "lr = LogisticRegression(class_weight = 'balanced', solver = 'lbfgs', random_state=42, n_jobs=-1, max_iter=50)\n",
    "\n",
    "rfe = RFE(lr, n_features_to_select=5)\n",
    "rfe=rfe.fit(X, y)\n",
    "# X_train, y_train - входные и выходные данные с обучающей выборки соответственно.\n",
    "selector_ind = rfe.get_support()\n",
    "df_rfe = X.iloc[:, selector_ind]\n",
    "print(df_rfe.columns)"
   ]
  },
  {
   "cell_type": "markdown",
   "id": "98381b69-7361-48dc-98d0-c9c9836777bf",
   "metadata": {
    "id": "OXVX1ODp0Yej"
   },
   "source": [
    "Вместе с тем методы-обертки, в отличие от методов-фильтров, чаще позволяют найти подмножество\n",
    "признаков, дающее наилучшее качество модели. Это обусловлено тем, что в отличие от методов-фильтров\n",
    "они могут учитывать взаимодействия переменных. Вы должны помнить, что некоторые признаки могут не обладать прогнозной силой по отдельности, но в сочетании с другими переменными приобретают ее.\n",
    "\n",
    "Разумеется, с помощью метода-обертки мы не можем получить подмножество признаков, которое даст наилучшее качество при использовании разных моделей машинного обучения.\n",
    "\n",
    "*Например, подмножество признаков, найденное с помощью логистической регрессии, не гарантирует наилучшего качества при построении градиентного бустинга на этом подмножестве. В то же время подмножество признаков,\n",
    "отобранное с помощью градиентного бустинга, может дать хорошее качество при построении на этом подмножеств случайного леса. Поэтому, выбирая метод-обертку, нужно помнить о том, какую модель машинного обучения мы потом будем строить на отобранном подмножестве признаков.*\n"
   ]
  },
  {
   "cell_type": "markdown",
   "id": "61d39dce-1655-4ea6-8822-2073a61139c7",
   "metadata": {
    "id": "JgiFZLlHocwT"
   },
   "source": [
    "## Встроенные методы (`embedded methods`).\n",
    "Эти методы включают в себя преимущества первых двух, а также уменьшают вычислительные затраты. Отличительной особенностью встроенных методов является извлечение “фич” на этапе конкретной итерации.\n",
    "\n",
    "Встроенные методы выполняют отбор признаков в ходе обучения модели машинного обучения. В их основе – следующая процедура:\n",
    "- обучаем модель машинного обучения;\n",
    "- вычисляем важности признаков;\n",
    "- удаляем неважные признаки (в случайном лесе или бустинге для этого задается определенный порог, ниже которого считаем признаки неважными, в методе LASSO неважные признаки просто получат нулевые коэффициенты и будут исключены из модели).\n",
    "\n",
    "\n"
   ]
  },
  {
   "cell_type": "markdown",
   "id": "e8f221f9-47a1-43e1-92ae-80ca78d6464f",
   "metadata": {
    "id": "b_7wBtFg1UJc"
   },
   "source": [
    "Основным методом из этой категории является регуляризация. Существуют различные ее разновидности, но основной принцип общий. Если рассмотреть работу классификатора без регуляризации, то она состоит в построении такой модели, которая наилучшим образом настроилась бы на предсказание всех точек тренировочного сета.\n",
    "\n",
    "Например, если алгоритм классификации линейная регрессия, то подбираются коэффициенты полинома, который аппроксимирует зависимость между фичами и целевой переменной. В качестве оценки качества подобранных коэффициентов выступает среднеквадратичная ошибка (`RMSE`). Т.е. параметры подбираются так, чтобы суммарное отклонение (точнее суммарный квадрат отклонений) у точек, предсказанных классификатором от реальных точек, было минимальным.\n",
    "Идея регуляризации в том, чтобы построить алгоритм минимизирующий не только ошибку, но и количество используемых переменных.\n",
    "\n"
   ]
  },
  {
   "cell_type": "markdown",
   "id": "3c34e5f4-c78f-40f5-aadd-61501c607145",
   "metadata": {
    "id": "fMpN4L1F1XbN"
   },
   "source": [
    "## Регуляризация LASSO (L1).\n",
    "Регуляризация состоит в добавлении штрафа (penalty) к различным параметрам модели во избежание чрезмерной подгонки. При регуляризации линейной модели штраф применяется к коэффициентам, умножающим каждый из предикторов. Lasso-регуляризация обладает свойством, позволяющим уменьшить некоторые коэффициенты до нуля. Следовательно, такие “фичи” можно будет просто удалить из модели.\n",
    "\n",
    "![img](https://drive.google.com/uc?id=1pAFQRa8I_-twxgh_2qbkrjJHoezkrY7i)"
   ]
  },
  {
   "cell_type": "markdown",
   "id": "e6cdd036-ea0f-45e5-933b-5da11d6f6e3a",
   "metadata": {
    "id": "874lL_ETpXl2"
   },
   "source": [
    "В процессе работы алгоритма размеры коэффициентов будут пропорциональны важности соответствующих переменных, а перед теми переменными, которые дают наименьший вклад в устранение ошибки, станут околонулевые. В LASSO с ростом альфа все больше коэффициентов становятся нулевыми и совсем перестают вносить вклад в модель. Таким образом, мы получаем действительно отбор фич. Более значимые фичи сохранят свои коэффициенты ненулевыми, менее значимые — обнулятся."
   ]
  },
  {
   "cell_type": "code",
   "execution_count": null,
   "id": "09ea5dbf-6d21-4289-8bd3-970e697411b7",
   "metadata": {
    "colab": {
     "base_uri": "https://localhost:8080/"
    },
    "executionInfo": {
     "elapsed": 240,
     "status": "ok",
     "timestamp": 1690458766870,
     "user": {
      "displayName": "ольга кузнецова",
      "userId": "04325811963451346545"
     },
     "user_tz": -180
    },
    "id": "RBSuIVCBpiid",
    "outputId": "c3300c2c-e2d6-4f87-ced4-f9dc82278a8f"
   },
   "outputs": [],
   "source": [
    "from sklearn.linear_model import LogisticRegression\n",
    "from sklearn.feature_selection import SelectFromModel\n",
    "\n",
    "# Устанавливаем наш параметр регуляризации C=1\n",
    "logistic = LogisticRegression(C=1, penalty=\"l1\", solver='liblinear', random_state=7).fit(X, y)\n",
    "# Где X, y - входные и выходные данные соответственно.\n",
    "model = SelectFromModel(logistic, prefit=True)\n",
    "\n",
    "X_new = model.transform(X)\n",
    "\n",
    "# выводим финальную оценку прогнозирования.\n",
    "selector_ind = model.get_support()\n",
    "df_rfe1 = X.iloc[:, selector_ind]\n",
    "print(df_rfe1.columns)\n"
   ]
  },
  {
   "cell_type": "code",
   "execution_count": null,
   "id": "faae6e01-02ed-4e8d-8e8f-617f9824dd74",
   "metadata": {},
   "outputs": [],
   "source": [
    "X_new"
   ]
  },
  {
   "cell_type": "markdown",
   "id": "09d338b3-1bca-444a-b2ec-96748bb15b55",
   "metadata": {
    "id": "2evsMDc0rKp-"
   },
   "source": [
    "## Регуляризация Тихонова (L2).\n",
    "\n",
    "Суть в том, что чересчур тяжёлые весовые коэффициенты «отталкивают» нашу линию наилучшего соответствия, построенную на основе минимизации квадрата ошибок, от основной тендеции.\n",
    "\n",
    "![img](https://drive.google.com/uc?id=1_B9TGeTVXUK5F8iPnF1JJL-x1GSw7BXZ)\n",
    "\n",
    "Тут получается, что функция занижает пики прибавляя сумму весов в квадрате с множителем лямбда.\n",
    "Происходит легкое смещение добавляя статистическую ошибку, которая не влияет на точность, но позволяет не переобучиться. Соответственно если вы поставите большую коэффициент (лямбда) L2, то система никогда не обучится, просто из-за того, что сильно сместиться. Но если лямбда будет маленькой, то и смещение будет маленьким, и весь смысл регуляризации так же будет минимальным.\n"
   ]
  },
  {
   "cell_type": "code",
   "execution_count": null,
   "id": "2343b5cf-5980-4289-8b34-fa26b4cce705",
   "metadata": {
    "colab": {
     "base_uri": "https://localhost:8080/"
    },
    "executionInfo": {
     "elapsed": 299,
     "status": "ok",
     "timestamp": 1660553267008,
     "user": {
      "displayName": "ольга кузнецова",
      "userId": "04325811963451346545"
     },
     "user_tz": -180
    },
    "id": "Q3EXQ1XcrsUY",
    "outputId": "4de30761-d130-4f92-d8d7-0725cf23cb19"
   },
   "outputs": [],
   "source": [
    "from sklearn.linear_model import Ridge\n",
    "import numpy as np\n",
    "n_samples, n_features = 10, 5\n",
    "rng = np.random.RandomState(0)\n",
    "y = rng.randn(n_samples)\n",
    "X = rng.randn(n_samples, n_features)\n",
    "clf = Ridge(alpha=1.0)\n",
    "clf.fit(X, y)\n",
    "clf.coef_"
   ]
  },
  {
   "cell_type": "markdown",
   "id": "c8e464e1-428b-4b14-bedd-c8bf4538e141",
   "metadata": {
    "id": "Vsn8ZX67sqfZ"
   },
   "source": [
    "**Как видно из конечных наборов функций, мы получаем разные результаты для разных подходов, поэтому нет определенной истины в выборе функций.**\n",
    "\n",
    "Методы фильтрации часто являются одномерными и учитывают признаки независимо или с учетом зависимой переменной. Однако это не всегда правильное предположение. Иногда функция сама по себе не имеет смысла, в то время как она может улучшить модель с помощью комбинаций других функций. Таким образом, подобные ситуации упускаются из виду в методах фильтрации. Кроме того, оценка статистических измерений для выбора признаков не способствует производительности модели, поэтому может не повысить точность модели. С другой стороны, эти подходы просты и выгодны по сравнению с другими в отношении времени обучения.\n",
    "\n",
    "Методы-оболочки используют итеративные процедуры поиска и используются вместе с моделью. В отличие от методов фильтрации, он учитывает комбинации объектов и возвращает подмножество объектов. Это может быть реализовано жадным или нежадным способом. Жадные подходы, такие как RFE, могут столкнуться с такими проблемами, как попадание в ловушку локальных оптимумов. Как правило, они работают медленнее, чем методы фильтрации, поскольку требуют больших объемов вычислений с учетом итеративного подхода.\n",
    "\n",
    "Встроенные методы работают быстрее, чем методы-оболочки, поскольку процесс выбора встроен в процесс подгонки модели. Они также обеспечивают прямую связь между выбором функций и производительностью модели. Таким образом, вы можете получить более удовлетворительные результаты с помощью встроенных методов. Одним из недостатков этого подхода является то, что он зависит от модели. Данные могут лучше соответствовать модели, которая неудобна для встроенных видов выбора функций."
   ]
  },
  {
   "cell_type": "markdown",
   "id": "61c80bb5-ff14-47f2-838e-a4227f243a84",
   "metadata": {
    "id": "SA4zXYC6NY--"
   },
   "source": [
    "### Комбинирование несколькиХ методов для отбора признаков\n"
   ]
  },
  {
   "cell_type": "code",
   "execution_count": null,
   "id": "194058f3-5d5e-4604-8754-0dfb0a1e5453",
   "metadata": {
    "colab": {
     "base_uri": "https://localhost:8080/"
    },
    "executionInfo": {
     "elapsed": 2306,
     "status": "ok",
     "timestamp": 1690538060348,
     "user": {
      "displayName": "ольга кузнецова",
      "userId": "04325811963451346545"
     },
     "user_tz": -180
    },
    "id": "SLAw34YUNgV7",
    "outputId": "56c622c5-6dad-4498-84d8-44349746372b"
   },
   "outputs": [],
   "source": [
    "from sklearn.metrics import roc_auc_score\n",
    "from sklearn.model_selection import GridSearchCV\n",
    "from catboost import CatBoostClassifier, Pool\n",
    "from lightgbm import LGBMClassifier\n",
    "from xgboost import XGBClassifier\n",
    "from sklearn.model_selection import train_test_split\n",
    "from sklearn.model_selection import (train_test_split,\n",
    "                                     cross_val_score,\n",
    "                                     cross_validate)\n",
    "\n",
    "# разбиваем набор данных на обучающую и тестовую выборки\n",
    "X_train, X_test, y_train, y_test = train_test_split(data.drop('MSRP', axis=1),data['MSRP'],test_size=0.3,random_state=42)\n",
    "\n",
    "# Сначала ищем оптимальный темп обучения для зафиксированного количества деревьев\n",
    "\n",
    "# создаем экземляр класса LGBMClassifier\n",
    "lgbm_model = LGBMClassifier(random_state=42,n_estimators=300)\n",
    "# задаем сетку гиперпараметров\n",
    "param_grid = {\n",
    "              'learning_rate': [0.01, 0.05, 0.1]\n",
    "              }\n",
    "# создаем экземпляр класса GridSearchCV, передав\n",
    "# конвейер, сетку гиперпараметров и указав\n",
    "# количество блоков перекрестной проверки\n",
    "gs = GridSearchCV(lgbm_model,param_grid, scoring='roc_auc', cv=5)\n",
    "\n",
    "# выполняем поиск по всем значениям сетки\n",
    "gs.fit(X_train, y_train);\n",
    "\n",
    "# смотрим наилучшие значения гиперпараметров\n",
    "print(\"Наилучшие значения гиперпараметров: {}\".format( gs.best_params_))\n",
    "# смотрим наилучшее значение AUC\n",
    "print(\"Наилучшее значение AUC: {:.3f}\".format(gs.best_score_))\n"
   ]
  },
  {
   "cell_type": "code",
   "execution_count": null,
   "id": "26e5802b-3c77-4938-b787-c2cf7863c54b",
   "metadata": {
    "colab": {
     "base_uri": "https://localhost:8080/"
    },
    "executionInfo": {
     "elapsed": 5410,
     "status": "ok",
     "timestamp": 1690537958859,
     "user": {
      "displayName": "ольга кузнецова",
      "userId": "04325811963451346545"
     },
     "user_tz": -180
    },
    "id": "jg4iSEwr5E-G",
    "outputId": "505af842-5195-4323-8085-dd7daff57233"
   },
   "outputs": [],
   "source": [
    "# Теперь ищем с помощью обычного поиска по сетке оптимальные значения гиперпараметров\n",
    "# Гиперпараметр lambda_l1 - задает штрафной коэффициент перед L1-нормой вектора весов листьев (по умолчанию 0).\n",
    "# Гиперпараметр bagging_ fraction - задает случайный отбор наблюдений без возвращения.\n",
    "# Он может принимать значения от 0 до 1\n",
    "# Гиперпараметр feature_fraction - задает случайный отбор признаков для каждого дерева.\n",
    "# Он может принимать значения от 0 до 1\n",
    "\n",
    "# создаем экземляр класса LGBMClassifier\n",
    "lgbm_model2 = LGBMClassifier(random_state=42,\n",
    "                             n_estimators=300,\n",
    "                             learning_rate=0.01)\n",
    "\n",
    "# задаем сетку гиперпараметров\n",
    "param_grid2 = {\n",
    "    'lambda_l1': [0, 10],\n",
    "    'bagging_fraction': [0.5, 1],\n",
    "    'feature_fraction': [0.5, 1]\n",
    "}\n",
    "\n",
    "# создаем экземпляр класса GridSearchCV, передав\n",
    "# конвейер, сетку гиперпараметров и указав\n",
    "# количество блоков перекрестной проверки\n",
    "gs2 = GridSearchCV(lgbm_model2,\n",
    "                   param_grid2,\n",
    "                   scoring='roc_auc',\n",
    "                   cv=5)\n",
    "\n",
    "# выполняем поиск по всем значениям сетки\n",
    "gs2.fit(X_train, y_train)\n",
    "\n",
    "# смотрим наилучшие значения гиперпараметров\n",
    "print('Наилучшие значения гиперпараметров: {}'.format(gs2.best_params_))\n",
    "# смотрим наилучшее значение AUC\n",
    "print('Наилучшее значение AUC: {:.3f}'.format(gs2.best_score_))\n"
   ]
  },
  {
   "cell_type": "code",
   "execution_count": null,
   "id": "c8e28f6b-27c2-4792-8637-9919312fe19c",
   "metadata": {
    "colab": {
     "base_uri": "https://localhost:8080/",
     "height": 573
    },
    "executionInfo": {
     "elapsed": 660,
     "status": "ok",
     "timestamp": 1690538064474,
     "user": {
      "displayName": "ольга кузнецова",
      "userId": "04325811963451346545"
     },
     "user_tz": -180
    },
    "id": "skBaEorB6n0h",
    "outputId": "8290b768-ba0d-41b4-887f-a89a2523c8b5"
   },
   "outputs": [],
   "source": [
    "# Теперь вычислим важности признаков на основе информационного выигрыша.\n",
    "\n",
    "\n",
    "# создаем экземляр класса LGBMClassifier\n",
    "model_all_features = LGBMClassifier(\n",
    "    random_state=42, learning_rate=0.01,\n",
    "    n_estimators=300, bagging_fraction=0.5,\n",
    "    feature_fraction=1, lambda_l1=10,\n",
    "    importance_type='gain')\n",
    "\n",
    "# выполняем перекрестную проверку и сохраняем результат\n",
    "# с помощью функции cross_validate()\n",
    "output = cross_validate(\n",
    "    model_all_features, X_train, y_train, cv=5,\n",
    "    scoring='roc_auc', return_estimator=True)\n",
    "\n",
    "# создаем список fi, в который будем сохранять\n",
    "# важности признаков, и сохраняем в него важности,\n",
    "# рассчитанные для каждой из моделей\n",
    "fi = []\n",
    "for estimator in output['estimator']:\n",
    "    fi.append(estimator.feature_importances_)\n",
    "\n",
    "# преобразовываем список в датафрейм, индексы в котором\n",
    "# будут именами наших переменных\n",
    "fi = pd.DataFrame(\n",
    "    np.array(fi).T,\n",
    "    columns=['importance ' + str(idx)\n",
    "             for idx in range(len(fi))],\n",
    "    index=X_train.columns)\n",
    "# вычисляем усредненные важности и добавляем столбец с ними\n",
    "fi['mean_importance'] = fi.mean(axis=1)\n",
    "# смотрим полученный датафрейм\n",
    "fi"
   ]
  },
  {
   "cell_type": "markdown",
   "id": "35a09ece-d3d6-4732-b7a6-f4bcd0976dd1",
   "metadata": {
    "id": "3-EZx6Az7HL4"
   },
   "source": [
    "Здесь мы видим, что некоторые признаки имеют нулевые или очень низкие важности.\n"
   ]
  },
  {
   "cell_type": "code",
   "execution_count": null,
   "id": "98b80e32-7051-418c-aa42-7ea1ae5c4898",
   "metadata": {
    "colab": {
     "base_uri": "https://localhost:8080/"
    },
    "executionInfo": {
     "elapsed": 255,
     "status": "ok",
     "timestamp": 1690538175258,
     "user": {
      "displayName": "ольга кузнецова",
      "userId": "04325811963451346545"
     },
     "user_tz": -180
    },
    "id": "ClyLP1v47Uq9",
    "outputId": "459ac344-2d0f-485c-b88a-cba20d7ed489"
   },
   "outputs": [],
   "source": [
    "# записываем серию, в которой индексные метки - признаки,\n",
    "# значения - важности\n",
    "features = fi['mean_importance']\n",
    "# сортируем индексные метки по возрастанию важностей\n",
    "features = features.sort_values(ascending=True)\n",
    "features"
   ]
  },
  {
   "cell_type": "code",
   "execution_count": null,
   "id": "30a940a0-084a-4e66-a3a5-c8ac2d7e5e09",
   "metadata": {
    "colab": {
     "base_uri": "https://localhost:8080/",
     "height": 830
    },
    "executionInfo": {
     "elapsed": 715,
     "status": "ok",
     "timestamp": 1690538212785,
     "user": {
      "displayName": "ольга кузнецова",
      "userId": "04325811963451346545"
     },
     "user_tz": -180
    },
    "id": "fQVgEGxR7aX0",
    "outputId": "56ed95df-c3a8-4c3a-9535-a0bf0c484dc4"
   },
   "outputs": [],
   "source": [
    "# выводим график усредненных важностей\n",
    "features.plot.barh(figsize=(5, 10));"
   ]
  },
  {
   "cell_type": "code",
   "execution_count": null,
   "id": "d495e5df-d30a-42e5-8d2b-78f36591a608",
   "metadata": {
    "colab": {
     "base_uri": "https://localhost:8080/"
    },
    "executionInfo": {
     "elapsed": 386,
     "status": "ok",
     "timestamp": 1690538230742,
     "user": {
      "displayName": "ольга кузнецова",
      "userId": "04325811963451346545"
     },
     "user_tz": -180
    },
    "id": "p6w6x15Y7hQL",
    "outputId": "169038c1-cb9b-4129-ad1b-a7b14af75e55"
   },
   "outputs": [],
   "source": [
    "# создаем список признаков\n",
    "features = list(features.index)\n",
    "features"
   ]
  },
  {
   "cell_type": "code",
   "execution_count": null,
   "id": "ea9066bc-8f37-4905-bbe2-7005b9b34e16",
   "metadata": {
    "colab": {
     "base_uri": "https://localhost:8080/"
    },
    "executionInfo": {
     "elapsed": 15,
     "status": "ok",
     "timestamp": 1690538258271,
     "user": {
      "displayName": "ольга кузнецова",
      "userId": "04325811963451346545"
     },
     "user_tz": -180
    },
    "id": "4KIcJWhS7p7J",
    "outputId": "071bffa4-6897-4fc9-812e-4f73e6ed5be6"
   },
   "outputs": [],
   "source": [
    "# вычисляем оценку AUC-ROC, усредненную по 5 проверочным\n",
    "# блокам перекрестной проверки (5 моделям со всеми\n",
    "# признаками)\n",
    "auc_score_all = output['test_score'].mean()\n",
    "auc_score_all"
   ]
  },
  {
   "cell_type": "code",
   "execution_count": null,
   "id": "4fe2e475-6d61-4b3b-b92b-171e1f415292",
   "metadata": {
    "colab": {
     "base_uri": "https://localhost:8080/"
    },
    "executionInfo": {
     "elapsed": 2536,
     "status": "ok",
     "timestamp": 1690538445380,
     "user": {
      "displayName": "ольга кузнецова",
      "userId": "04325811963451346545"
     },
     "user_tz": -180
    },
    "id": "4c3LXnUz8P_j",
    "outputId": "9961305a-5750-4f90-ae73-75299e6789bd"
   },
   "outputs": [],
   "source": [
    "# задаем пороговое значение разницы AUC\n",
    "tol = 0.0001\n",
    "\n",
    "print(\"выполнение последовательного удаления признаков\")\n",
    "\n",
    "# создаем список, в который будем\n",
    "# записывать удаляемые признаки\n",
    "features_to_remove = []\n",
    "# создаем список, в который будем\n",
    "# записывать значение AUC\n",
    "auc_score_mean_list = []\n",
    "# создаем список, в который будем\n",
    "# записывать разницу AUC\n",
    "diff_auc_list = []\n",
    "\n",
    "# задаем счетчик для оценки прогресса\n",
    "count = 1\n",
    "\n",
    "# итерируем по всем признакам, признаки упорядочены по\n",
    "# возрастанию важности на основе информационного выигрыша\n",
    "for feature in features:\n",
    "    print()\n",
    "    print(\"проверяемый признак: \", feature, \" признак \", count,\n",
    "          \" из \", len(features))\n",
    "    count = count + 1\n",
    "\n",
    "    # создаем экземляр класса LGBMClassifier\n",
    "    model = LGBMClassifier(\n",
    "        random_state=42, learning_rate=0.01,\n",
    "        n_estimators=300, bagging_fraction=0.5,\n",
    "        feature_fraction=1, lambda_l1=10)\n",
    "\n",
    "    # обучаем модели со всеми признаками минус уже удаленные признаки\n",
    "    # (берем их из списка удаляемых признаков) и оцениваемый признак\n",
    "    auc_scores = cross_val_score(\n",
    "        model,\n",
    "        X_train.drop(features_to_remove + [feature], axis=1),\n",
    "        y_train,\n",
    "        scoring='roc_auc',\n",
    "        cv=5)\n",
    " # вычисляем AUC, усредненный по проверочным блокам\n",
    "    # перекрестной проверки\n",
    "    auc_score_mean = auc_scores.mean()\n",
    "\n",
    "    # печатаем усредненное значение AUC\n",
    "    print(\"AUC модели после удаления={}\".format((auc_score_mean)))\n",
    "\n",
    "    # добавляем усредненное значение AUC в список\n",
    "    auc_score_mean_list.append(auc_score_mean)\n",
    "\n",
    "    # печатаем AUC модели со всеми признаками\n",
    "    # (опорное значение AUC)\n",
    "    print(\"AUC модели со всеми признаками={}\".format((auc_score_all)))\n",
    "\n",
    "    # определяем разницу AUC (если отрицательное значение\n",
    "    # - удаление признака улучшило AUC)\n",
    "    diff_auc = auc_score_all - auc_score_mean\n",
    "\n",
    "    # записываем разницу AUC в список\n",
    "    diff_auc_list.append(diff_auc)\n",
    "\n",
    "    # сравниваем разницу AUC с порогом, заданным заранее\n",
    "    # если разница AUC больше или равна порогу, сохраняем\n",
    "    if diff_auc >= tol:\n",
    "        print(\"Разница AUC={}\".format(diff_auc))\n",
    "        print(\"сохраняем: \", feature)\n",
    "        print\n",
    "\n",
    "    # если разница AUC меньше порога, удаляем\n",
    "    else:\n",
    "        print(\"Разница AUC={}\".format(diff_auc))\n",
    "        print(\"удаляем: \", feature)\n",
    "        print\n",
    "\n",
    "        # если разница AUC меньше порога и мы удаляем признак,\n",
    "        # мы в качестве нового опорного значения AUC задаем\n",
    "        # значение AUC для модели с оставшимися признаками\n",
    "        auc_score_all = auc_score_mean\n",
    " # добавляем удаляемый признак в список\n",
    "        features_to_remove.append(feature)\n",
    "\n",
    "# формируем датафрейм\n",
    "df = pd.DataFrame({'feature': features,\n",
    "                   'auc_score_mean': auc_score_mean_list,\n",
    "                   'diff_auc_score': diff_auc_list})\n",
    "\n",
    "# цикл завершен, вычисляем количество\n",
    "# удаленных признаков\n",
    "print(\"ВЫПОЛНЕНО!!\")\n",
    "print(\"общее количество признаков для удаления: \",\n",
    "      len(features_to_remove))\n",
    "\n",
    "# определяем признаки, которые мы хотим сохранить (не удаляем)\n",
    "features_to_keep = [x for x in features\n",
    "                    if x not in features_to_remove]\n",
    "print(\"общее количество признаков для сохранения: \",\n",
    "      len(features_to_keep))"
   ]
  },
  {
   "cell_type": "code",
   "execution_count": null,
   "id": "1d984ea9-7098-4715-a5fa-1c2659296263",
   "metadata": {
    "colab": {
     "base_uri": "https://localhost:8080/",
     "height": 424
    },
    "executionInfo": {
     "elapsed": 268,
     "status": "ok",
     "timestamp": 1690539477073,
     "user": {
      "displayName": "ольга кузнецова",
      "userId": "04325811963451346545"
     },
     "user_tz": -180
    },
    "id": "9BukYu519Q5v",
    "outputId": "5ade65f6-9587-4463-bab5-6b77fbcb9bfe"
   },
   "outputs": [],
   "source": [
    "dgg_new= []\n",
    "for col in features_to_keep:\n",
    "    dgg_new.append(data[col])\n",
    "dff1 = pd.DataFrame(dgg_new)\n",
    "# dff1.to_csv(path_or_buf='../dataset/car6.csv',index=False)\n",
    "dff1"
   ]
  },
  {
   "cell_type": "markdown",
   "id": "1a0571e9-3481-48d3-b5f4-dc7080470a0a",
   "metadata": {
    "id": "j25ZBVSA10kr"
   },
   "source": [
    "**Отбор признаков – это тоже модель, либо использующая вычисление статистик признаков (в случае с методами-фильтрами), либо использующая параметры моделей машинного обучения (в случае с методами-обертками и встро- енными методами), поэтому модели отбора признаков строим на обучающей выборке, настраиваем гиперпараметры на проверочной выборке и получаем итоговую оценку качества на тестовой.**\n",
    "\n"
   ]
  },
  {
   "cell_type": "markdown",
   "id": "2e3c0489-aaf2-4731-8407-86abfa6c25c7",
   "metadata": {},
   "source": [
    "на логистической регрессии попробовать, если отобранные признаки плохо прогнозируют, надо вернуть к этой лабе и попробовать другие признаки"
   ]
  }
 ],
 "metadata": {
  "kernelspec": {
   "display_name": "Python 3 (ipykernel)",
   "language": "python",
   "name": "python3"
  },
  "language_info": {
   "codemirror_mode": {
    "name": "ipython",
    "version": 3
   },
   "file_extension": ".py",
   "mimetype": "text/x-python",
   "name": "python",
   "nbconvert_exporter": "python",
   "pygments_lexer": "ipython3",
   "version": "3.10.0"
  }
 },
 "nbformat": 4,
 "nbformat_minor": 5
}
